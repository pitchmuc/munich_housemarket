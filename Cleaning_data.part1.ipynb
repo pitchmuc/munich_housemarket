{
 "cells": [
  {
   "cell_type": "code",
   "execution_count": 1,
   "metadata": {},
   "outputs": [],
   "source": [
    "import pandas as pd\n",
    "import numpy as np"
   ]
  },
  {
   "cell_type": "code",
   "execution_count": 2,
   "metadata": {},
   "outputs": [],
   "source": [
    "df= pd.read_csv('data_immo.raw.csv',delimiter='\\t')"
   ]
  },
  {
   "cell_type": "code",
   "execution_count": 3,
   "metadata": {},
   "outputs": [
    {
     "data": {
      "text/html": [
       "<div>\n",
       "<style scoped>\n",
       "    .dataframe tbody tr th:only-of-type {\n",
       "        vertical-align: middle;\n",
       "    }\n",
       "\n",
       "    .dataframe tbody tr th {\n",
       "        vertical-align: top;\n",
       "    }\n",
       "\n",
       "    .dataframe thead th {\n",
       "        text-align: right;\n",
       "    }\n",
       "</style>\n",
       "<table border=\"1\" class=\"dataframe\">\n",
       "  <thead>\n",
       "    <tr style=\"text-align: right;\">\n",
       "      <th></th>\n",
       "      <th>index0</th>\n",
       "      <th>terrace</th>\n",
       "      <th>bedrooms</th>\n",
       "      <th>construction_year</th>\n",
       "      <th>date_month</th>\n",
       "      <th>date_year</th>\n",
       "      <th>date_year_month</th>\n",
       "      <th>floor</th>\n",
       "      <th>rooms</th>\n",
       "      <th>price_room</th>\n",
       "      <th>price_surface</th>\n",
       "      <th>price</th>\n",
       "      <th>surface</th>\n",
       "      <th>zip</th>\n",
       "    </tr>\n",
       "  </thead>\n",
       "  <tbody>\n",
       "    <tr>\n",
       "      <th>0</th>\n",
       "      <td>0</td>\n",
       "      <td>yes</td>\n",
       "      <td>2</td>\n",
       "      <td>1986</td>\n",
       "      <td>3</td>\n",
       "      <td>2016</td>\n",
       "      <td>2016_03</td>\n",
       "      <td>up floor</td>\n",
       "      <td>3</td>\n",
       "      <td>108333.33333333333</td>\n",
       "      <td>3915.6626506024095</td>\n",
       "      <td>325000</td>\n",
       "      <td>83</td>\n",
       "      <td>85221</td>\n",
       "    </tr>\n",
       "    <tr>\n",
       "      <th>1</th>\n",
       "      <td>1</td>\n",
       "      <td>yes</td>\n",
       "      <td>NAN</td>\n",
       "      <td>1972</td>\n",
       "      <td>3</td>\n",
       "      <td>2016</td>\n",
       "      <td>2016_03</td>\n",
       "      <td>up floor</td>\n",
       "      <td>3</td>\n",
       "      <td>115000.0</td>\n",
       "      <td>4107.142857142857</td>\n",
       "      <td>345000</td>\n",
       "      <td>84</td>\n",
       "      <td>85521</td>\n",
       "    </tr>\n",
       "    <tr>\n",
       "      <th>2</th>\n",
       "      <td>2</td>\n",
       "      <td>yes</td>\n",
       "      <td>2</td>\n",
       "      <td>1968</td>\n",
       "      <td>3</td>\n",
       "      <td>2016</td>\n",
       "      <td>2016_03</td>\n",
       "      <td>up floor</td>\n",
       "      <td>3</td>\n",
       "      <td>123333.33333333333</td>\n",
       "      <td>4805.194805194805</td>\n",
       "      <td>370000</td>\n",
       "      <td>77</td>\n",
       "      <td>81369</td>\n",
       "    </tr>\n",
       "    <tr>\n",
       "      <th>3</th>\n",
       "      <td>3</td>\n",
       "      <td>yes</td>\n",
       "      <td>2</td>\n",
       "      <td>1963</td>\n",
       "      <td>3</td>\n",
       "      <td>2016</td>\n",
       "      <td>2016_03</td>\n",
       "      <td>up floor</td>\n",
       "      <td>3</td>\n",
       "      <td>133000.0</td>\n",
       "      <td>4244.68085106383</td>\n",
       "      <td>399000</td>\n",
       "      <td>94</td>\n",
       "      <td>82110</td>\n",
       "    </tr>\n",
       "    <tr>\n",
       "      <th>4</th>\n",
       "      <td>4</td>\n",
       "      <td>yes</td>\n",
       "      <td>2</td>\n",
       "      <td>1973</td>\n",
       "      <td>3</td>\n",
       "      <td>2016</td>\n",
       "      <td>2016_03</td>\n",
       "      <td>up floor</td>\n",
       "      <td>3</td>\n",
       "      <td>122933.33333333333</td>\n",
       "      <td>4789.61038961039</td>\n",
       "      <td>368800</td>\n",
       "      <td>77</td>\n",
       "      <td>81735</td>\n",
       "    </tr>\n",
       "  </tbody>\n",
       "</table>\n",
       "</div>"
      ],
      "text/plain": [
       "   index0 terrace bedrooms construction_year  date_month  date_year  \\\n",
       "0       0     yes        2              1986           3       2016   \n",
       "1       1     yes      NAN              1972           3       2016   \n",
       "2       2     yes        2              1968           3       2016   \n",
       "3       3     yes        2              1963           3       2016   \n",
       "4       4     yes        2              1973           3       2016   \n",
       "\n",
       "  date_year_month     floor rooms          price_room       price_surface  \\\n",
       "0         2016_03  up floor     3  108333.33333333333  3915.6626506024095   \n",
       "1         2016_03  up floor     3            115000.0   4107.142857142857   \n",
       "2         2016_03  up floor     3  123333.33333333333   4805.194805194805   \n",
       "3         2016_03  up floor     3            133000.0    4244.68085106383   \n",
       "4         2016_03  up floor     3  122933.33333333333    4789.61038961039   \n",
       "\n",
       "    price surface    zip  \n",
       "0  325000      83  85221  \n",
       "1  345000      84  85521  \n",
       "2  370000      77  81369  \n",
       "3  399000      94  82110  \n",
       "4  368800      77  81735  "
      ]
     },
     "execution_count": 3,
     "metadata": {},
     "output_type": "execute_result"
    }
   ],
   "source": [
    "df.head()"
   ]
  },
  {
   "cell_type": "code",
   "execution_count": 4,
   "metadata": {},
   "outputs": [
    {
     "data": {
      "text/plain": [
       "index0                int64\n",
       "terrace              object\n",
       "bedrooms             object\n",
       "construction_year    object\n",
       "date_month            int64\n",
       "date_year             int64\n",
       "date_year_month      object\n",
       "floor                object\n",
       "rooms                object\n",
       "price_room           object\n",
       "price_surface        object\n",
       "price                object\n",
       "surface              object\n",
       "zip                   int64\n",
       "dtype: object"
      ]
     },
     "execution_count": 4,
     "metadata": {},
     "output_type": "execute_result"
    }
   ],
   "source": [
    "df.dtypes"
   ]
  },
  {
   "cell_type": "code",
   "execution_count": 5,
   "metadata": {},
   "outputs": [
    {
     "data": {
      "text/plain": [
       "index0               0\n",
       "terrace              0\n",
       "bedrooms             0\n",
       "construction_year    0\n",
       "date_month           0\n",
       "date_year            0\n",
       "date_year_month      0\n",
       "floor                0\n",
       "rooms                0\n",
       "price_room           0\n",
       "price_surface        0\n",
       "price                0\n",
       "surface              0\n",
       "zip                  0\n",
       "dtype: int64"
      ]
     },
     "execution_count": 5,
     "metadata": {},
     "output_type": "execute_result"
    }
   ],
   "source": [
    "df.isna().sum()"
   ]
  },
  {
   "cell_type": "code",
   "execution_count": 6,
   "metadata": {},
   "outputs": [],
   "source": [
    "df.replace('NAN',np.NaN,inplace=True)"
   ]
  },
  {
   "cell_type": "code",
   "execution_count": 7,
   "metadata": {},
   "outputs": [
    {
     "data": {
      "text/plain": [
       "index0                 0\n",
       "terrace                0\n",
       "bedrooms             319\n",
       "construction_year     49\n",
       "date_month             0\n",
       "date_year              0\n",
       "date_year_month        0\n",
       "floor                113\n",
       "rooms                 34\n",
       "price_room            35\n",
       "price_surface        212\n",
       "price                  1\n",
       "surface              211\n",
       "zip                    0\n",
       "dtype: int64"
      ]
     },
     "execution_count": 7,
     "metadata": {},
     "output_type": "execute_result"
    }
   ],
   "source": [
    "df.isna().sum()"
   ]
  },
  {
   "cell_type": "code",
   "execution_count": 8,
   "metadata": {},
   "outputs": [
    {
     "data": {
      "text/plain": [
       "index0                0.000000\n",
       "terrace               0.000000\n",
       "bedrooms             36.708861\n",
       "construction_year     5.638665\n",
       "date_month            0.000000\n",
       "date_year             0.000000\n",
       "date_year_month       0.000000\n",
       "floor                13.003452\n",
       "rooms                 3.912543\n",
       "price_room            4.027618\n",
       "price_surface        24.395857\n",
       "price                 0.115075\n",
       "surface              24.280783\n",
       "zip                   0.000000\n",
       "dtype: float64"
      ]
     },
     "execution_count": 8,
     "metadata": {},
     "output_type": "execute_result"
    }
   ],
   "source": [
    "(df.isnull().sum() / len(df))*100"
   ]
  },
  {
   "cell_type": "code",
   "execution_count": 9,
   "metadata": {},
   "outputs": [
    {
     "data": {
      "text/html": [
       "<div>\n",
       "<style scoped>\n",
       "    .dataframe tbody tr th:only-of-type {\n",
       "        vertical-align: middle;\n",
       "    }\n",
       "\n",
       "    .dataframe tbody tr th {\n",
       "        vertical-align: top;\n",
       "    }\n",
       "\n",
       "    .dataframe thead th {\n",
       "        text-align: right;\n",
       "    }\n",
       "</style>\n",
       "<table border=\"1\" class=\"dataframe\">\n",
       "  <thead>\n",
       "    <tr style=\"text-align: right;\">\n",
       "      <th></th>\n",
       "      <th>367</th>\n",
       "    </tr>\n",
       "  </thead>\n",
       "  <tbody>\n",
       "    <tr>\n",
       "      <th>index0</th>\n",
       "      <td>4</td>\n",
       "    </tr>\n",
       "    <tr>\n",
       "      <th>terrace</th>\n",
       "      <td>yes</td>\n",
       "    </tr>\n",
       "    <tr>\n",
       "      <th>bedrooms</th>\n",
       "      <td>NaN</td>\n",
       "    </tr>\n",
       "    <tr>\n",
       "      <th>construction_year</th>\n",
       "      <td>2016</td>\n",
       "    </tr>\n",
       "    <tr>\n",
       "      <th>date_month</th>\n",
       "      <td>8</td>\n",
       "    </tr>\n",
       "    <tr>\n",
       "      <th>date_year</th>\n",
       "      <td>2016</td>\n",
       "    </tr>\n",
       "    <tr>\n",
       "      <th>date_year_month</th>\n",
       "      <td>2016_08</td>\n",
       "    </tr>\n",
       "    <tr>\n",
       "      <th>floor</th>\n",
       "      <td>NaN</td>\n",
       "    </tr>\n",
       "    <tr>\n",
       "      <th>rooms</th>\n",
       "      <td>5</td>\n",
       "    </tr>\n",
       "    <tr>\n",
       "      <th>price_room</th>\n",
       "      <td>NaN</td>\n",
       "    </tr>\n",
       "    <tr>\n",
       "      <th>price_surface</th>\n",
       "      <td>NaN</td>\n",
       "    </tr>\n",
       "    <tr>\n",
       "      <th>price</th>\n",
       "      <td>NaN</td>\n",
       "    </tr>\n",
       "    <tr>\n",
       "      <th>surface</th>\n",
       "      <td>209</td>\n",
       "    </tr>\n",
       "    <tr>\n",
       "      <th>zip</th>\n",
       "      <td>81479</td>\n",
       "    </tr>\n",
       "  </tbody>\n",
       "</table>\n",
       "</div>"
      ],
      "text/plain": [
       "                       367\n",
       "index0                   4\n",
       "terrace                yes\n",
       "bedrooms               NaN\n",
       "construction_year     2016\n",
       "date_month               8\n",
       "date_year             2016\n",
       "date_year_month    2016_08\n",
       "floor                  NaN\n",
       "rooms                    5\n",
       "price_room             NaN\n",
       "price_surface          NaN\n",
       "price                  NaN\n",
       "surface                209\n",
       "zip                  81479"
      ]
     },
     "execution_count": 9,
     "metadata": {},
     "output_type": "execute_result"
    }
   ],
   "source": [
    "df[df['price'].isna()].T"
   ]
  },
  {
   "cell_type": "code",
   "execution_count": 10,
   "metadata": {},
   "outputs": [],
   "source": [
    "df.drop(df[df['price'].isna()].index,inplace = True)"
   ]
  },
  {
   "cell_type": "code",
   "execution_count": 11,
   "metadata": {},
   "outputs": [
    {
     "data": {
      "text/plain": [
       "index0                 0\n",
       "terrace                0\n",
       "bedrooms             318\n",
       "construction_year     49\n",
       "date_month             0\n",
       "date_year              0\n",
       "date_year_month        0\n",
       "floor                112\n",
       "rooms                 34\n",
       "price_room            34\n",
       "price_surface        211\n",
       "price                  0\n",
       "surface              211\n",
       "zip                    0\n",
       "dtype: int64"
      ]
     },
     "execution_count": 11,
     "metadata": {},
     "output_type": "execute_result"
    }
   ],
   "source": [
    "df.isna().sum()"
   ]
  },
  {
   "cell_type": "code",
   "execution_count": 12,
   "metadata": {},
   "outputs": [
    {
     "data": {
      "text/plain": [
       "terrace              object\n",
       "bedrooms             object\n",
       "construction_year    object\n",
       "date_month            int64\n",
       "date_year             int64\n",
       "date_year_month      object\n",
       "floor                object\n",
       "rooms                object\n",
       "price_room           object\n",
       "price_surface        object\n",
       "price                object\n",
       "surface              object\n",
       "zip                   int64\n",
       "dtype: object"
      ]
     },
     "execution_count": 12,
     "metadata": {},
     "output_type": "execute_result"
    }
   ],
   "source": [
    "df.drop(['index0'],axis=1,inplace=True)\n",
    "df.dtypes"
   ]
  },
  {
   "cell_type": "code",
   "execution_count": 13,
   "metadata": {},
   "outputs": [],
   "source": [
    "for col in list(df.columns):\n",
    "    try:\n",
    "        df[col] = df[col].astype(int)\n",
    "    except:\n",
    "        df[col] = df[col].astype(str)"
   ]
  },
  {
   "cell_type": "code",
   "execution_count": 14,
   "metadata": {},
   "outputs": [],
   "source": [
    "for col in list(df.columns):\n",
    "    if df[col].dtypes == object:\n",
    "        try:\n",
    "            df[col] = df[col].astype(float)\n",
    "        except:\n",
    "            df[col] = df[col].astype(str)"
   ]
  },
  {
   "cell_type": "code",
   "execution_count": 15,
   "metadata": {},
   "outputs": [
    {
     "data": {
      "text/plain": [
       "terrace               object\n",
       "bedrooms             float64\n",
       "construction_year    float64\n",
       "date_month             int32\n",
       "date_year              int32\n",
       "date_year_month        int32\n",
       "floor                 object\n",
       "rooms                float64\n",
       "price_room           float64\n",
       "price_surface        float64\n",
       "price                  int32\n",
       "surface              float64\n",
       "zip                    int32\n",
       "dtype: object"
      ]
     },
     "execution_count": 15,
     "metadata": {},
     "output_type": "execute_result"
    }
   ],
   "source": [
    "df.dtypes "
   ]
  },
  {
   "cell_type": "code",
   "execution_count": 16,
   "metadata": {},
   "outputs": [
    {
     "data": {
      "text/plain": [
       "up floor        687\n",
       "nan             112\n",
       "ground floor     69\n",
       "Name: floor, dtype: int64"
      ]
     },
     "execution_count": 16,
     "metadata": {},
     "output_type": "execute_result"
    }
   ],
   "source": [
    "df['floor'].value_counts()"
   ]
  },
  {
   "cell_type": "code",
   "execution_count": 19,
   "metadata": {},
   "outputs": [],
   "source": [
    "def fill10pct():\n",
    "    if np.random.randint(0,9) == 0:\n",
    "        return 'ground floor'\n",
    "    else:\n",
    "        return 'up floor'"
   ]
  },
  {
   "cell_type": "code",
   "execution_count": 20,
   "metadata": {},
   "outputs": [],
   "source": [
    "for index, value in df.iterrows():\n",
    "    if df.loc[index,'floor']=='nan':\n",
    "        df.loc[index,'floor'] = fill10pct()"
   ]
  },
  {
   "cell_type": "code",
   "execution_count": 21,
   "metadata": {},
   "outputs": [
    {
     "data": {
      "text/plain": [
       "up floor        787\n",
       "ground floor     81\n",
       "Name: floor, dtype: int64"
      ]
     },
     "execution_count": 21,
     "metadata": {},
     "output_type": "execute_result"
    }
   ],
   "source": [
    "df['floor'].value_counts()"
   ]
  },
  {
   "cell_type": "code",
   "execution_count": 22,
   "metadata": {},
   "outputs": [],
   "source": [
    "conditions =[\n",
    "    (df['rooms'].isnull()) & (df['bedrooms'].isnull()) & (df['surface'].isnull()),\n",
    "    (df['rooms'].isnull()) & (df['bedrooms'].isnull()) & (df['surface']>75),\n",
    "    (df['rooms'].isnull()) & (df['bedrooms'].notnull()),\n",
    "]\n",
    "choices = [2,3,df['bedrooms']+1]\n",
    "df['rooms'] = np.select(conditions,choices,default=2)"
   ]
  },
  {
   "cell_type": "code",
   "execution_count": 23,
   "metadata": {},
   "outputs": [
    {
     "data": {
      "text/plain": [
       "2.0    836\n",
       "3.0     24\n",
       "4.0      8\n",
       "Name: rooms, dtype: int64"
      ]
     },
     "execution_count": 23,
     "metadata": {},
     "output_type": "execute_result"
    }
   ],
   "source": [
    "df['rooms'].value_counts()"
   ]
  },
  {
   "cell_type": "code",
   "execution_count": 24,
   "metadata": {},
   "outputs": [],
   "source": [
    "df['bedrooms'] = np.where(df['bedrooms'].isnull(), df['rooms']-1, df['bedrooms'])"
   ]
  },
  {
   "cell_type": "code",
   "execution_count": 25,
   "metadata": {},
   "outputs": [
    {
     "data": {
      "text/plain": [
       "terrace                0\n",
       "bedrooms               0\n",
       "construction_year     49\n",
       "date_month             0\n",
       "date_year              0\n",
       "date_year_month        0\n",
       "floor                  0\n",
       "rooms                  0\n",
       "price_room            34\n",
       "price_surface        211\n",
       "price                  0\n",
       "surface              211\n",
       "zip                    0\n",
       "dtype: int64"
      ]
     },
     "execution_count": 25,
     "metadata": {},
     "output_type": "execute_result"
    }
   ],
   "source": [
    "df.isnull().sum()"
   ]
  },
  {
   "cell_type": "code",
   "execution_count": 27,
   "metadata": {},
   "outputs": [
    {
     "data": {
      "text/plain": [
       "rooms\n",
       "2.0     89.988924\n",
       "3.0     91.100000\n",
       "4.0    100.400000\n",
       "Name: surface, dtype: float64"
      ]
     },
     "execution_count": 27,
     "metadata": {},
     "output_type": "execute_result"
    }
   ],
   "source": [
    "df.groupby(['rooms'])['surface'].mean()"
   ]
  },
  {
   "cell_type": "code",
   "execution_count": 29,
   "metadata": {},
   "outputs": [],
   "source": [
    "conditions = [\n",
    "    (df['rooms']==2 & df['surface'].isnull()),\n",
    "    (df['rooms']==3 & df['surface'].isnull()),\n",
    "    (df['rooms']==4 & df['surface'].isnull())\n",
    "]\n",
    "choices = [90,91.1,100]\n",
    "df['surface'] = np.select(conditions,choices,default=90.5)"
   ]
  },
  {
   "cell_type": "code",
   "execution_count": 31,
   "metadata": {},
   "outputs": [],
   "source": [
    "df['construction_year'].fillna(df['construction_year'].mean(),inplace=True)"
   ]
  },
  {
   "cell_type": "code",
   "execution_count": 32,
   "metadata": {},
   "outputs": [
    {
     "data": {
      "text/plain": [
       "terrace                0\n",
       "bedrooms               0\n",
       "construction_year      0\n",
       "date_month             0\n",
       "date_year              0\n",
       "date_year_month        0\n",
       "floor                  0\n",
       "rooms                  0\n",
       "price_room            34\n",
       "price_surface        211\n",
       "price                  0\n",
       "surface                0\n",
       "zip                    0\n",
       "dtype: int64"
      ]
     },
     "execution_count": 32,
     "metadata": {},
     "output_type": "execute_result"
    }
   ],
   "source": [
    "df.isnull().sum()"
   ]
  },
  {
   "cell_type": "code",
   "execution_count": 33,
   "metadata": {},
   "outputs": [],
   "source": [
    "df['price_room'] = df['price'] / df['rooms']\n",
    "df['price_surface'] = df['price'] / df['surface']"
   ]
  },
  {
   "cell_type": "code",
   "execution_count": 34,
   "metadata": {},
   "outputs": [
    {
     "data": {
      "text/plain": [
       "terrace              0\n",
       "bedrooms             0\n",
       "construction_year    0\n",
       "date_month           0\n",
       "date_year            0\n",
       "date_year_month      0\n",
       "floor                0\n",
       "rooms                0\n",
       "price_room           0\n",
       "price_surface        0\n",
       "price                0\n",
       "surface              0\n",
       "zip                  0\n",
       "dtype: int64"
      ]
     },
     "execution_count": 34,
     "metadata": {},
     "output_type": "execute_result"
    }
   ],
   "source": [
    "df.isnull().sum()"
   ]
  },
  {
   "cell_type": "code",
   "execution_count": 35,
   "metadata": {},
   "outputs": [],
   "source": [
    "df.to_csv('data_immo.clean.csv',sep='\\t',index=False)"
   ]
  },
  {
   "cell_type": "code",
   "execution_count": null,
   "metadata": {},
   "outputs": [],
   "source": []
  }
 ],
 "metadata": {
  "kernelspec": {
   "display_name": "Python 3",
   "language": "python",
   "name": "python3"
  },
  "language_info": {
   "codemirror_mode": {
    "name": "ipython",
    "version": 3
   },
   "file_extension": ".py",
   "mimetype": "text/x-python",
   "name": "python",
   "nbconvert_exporter": "python",
   "pygments_lexer": "ipython3",
   "version": "3.7.0"
  }
 },
 "nbformat": 4,
 "nbformat_minor": 2
}
